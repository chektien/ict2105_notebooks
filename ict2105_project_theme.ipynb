{
 "cells": [
  {
   "cell_type": "markdown",
   "metadata": {
    "nbpresent": {
     "id": "5f663423-d46c-40f9-9593-fa31ff1acf59"
    }
   },
   "source": [
    "# Gamification (and serious games)\n"
   ]
  },
  {
   "cell_type": "markdown",
   "metadata": {
    "collapsed": false
   },
   "source": [
    "### NASA Moonlander\n",
    "![](http://www.virtualheroes.com/sites/default/files/styles/portfolio_layout_2/public/Moonbase_Alpha_02_3.jpg)\n",
    "\n",
    "- based on 5E instructional model\n",
    "- learn about moon, energy, gravity, teamwork, etc"
   ]
  },
  {
   "cell_type": "markdown",
   "metadata": {},
   "source": [
    "### Angry Birds Space\n",
    "![](http://www.space.com/images/i/000/027/422/original/angry-birds-space-exhibit-kennedy-space-center-red-bird-1.jpg)\n",
    "- learn pseudo physics"
   ]
  },
  {
   "cell_type": "markdown",
   "metadata": {
    "nbpresent": {
     "id": "94c96a43-d0ec-4c0d-a76c-de68a9bbaac5"
    }
   },
   "source": [
    "### Microsoft Flight Simulator\n",
    "![](http://cdn.akamai.steamstatic.com/steam/apps/536545/ss_2fb3fcf93f696f1443421f5fbdb40deadf7f5944.600x338.jpg)\n",
    "- realism\n",
    "- actual pilot training"
   ]
  },
  {
   "cell_type": "markdown",
   "metadata": {},
   "source": [
    "### Foldit by Uni of Washington\n",
    "![](http://fold.it/portal/files/newcompetition.png)\n",
    "- crowdsource problem solving\n",
    "- 10 years problem solved (gamers) in 10 days"
   ]
  },
  {
   "cell_type": "markdown",
   "metadata": {},
   "source": [
    "### Speed Camera Lottery\n",
    "[![](https://files1.coloribus.com/files/adsarchive/part_1446/14467705/volkswagen-the-speed-camera-lottery-600-38011.jpg)](https://youtu.be/iynzHWwJXaA)\n",
    "- offenders add to pool, abiders enter draw\n",
    "- utilizes goal, reward, punishment\n",
    "\n"
   ]
  },
  {
   "cell_type": "markdown",
   "metadata": {},
   "source": [
    "### Strava\n",
    "![](http://smartgadgetsnews.com/wp-content/uploads/2016/04/1460671949_251_Essential-Strava-guide-Tips-and-tricks-to-take-your-training-to-the-next-level.jpg)\n",
    "- uses achievements, challenges, social competition\n",
    "- tracks cadence, speed, power, distance, heartrate, etc"
   ]
  },
  {
   "cell_type": "code",
   "execution_count": null,
   "metadata": {
    "collapsed": false
   },
   "outputs": [],
   "source": []
  },
  {
   "cell_type": "markdown",
   "metadata": {},
   "source": [
    " \n",
    "# ICT2105 Team Project 2017 Theme\n",
    "## Gamified Health\n",
    "> **Design/Develop a fun app to improve one's health.**\n",
    "\n",
    "- capture data from the phone/watch/etc sensors\n",
    "- convert these data into something meaningfully fun"
   ]
  },
  {
   "cell_type": "code",
   "execution_count": null,
   "metadata": {
    "collapsed": true
   },
   "outputs": [],
   "source": []
  },
  {
   "cell_type": "code",
   "execution_count": null,
   "metadata": {
    "collapsed": true
   },
   "outputs": [],
   "source": []
  }
 ],
 "metadata": {
  "anaconda-cloud": {},
  "kernelspec": {
   "display_name": "Python [Root]",
   "language": "python",
   "name": "Python [Root]"
  },
  "language_info": {
   "codemirror_mode": {
    "name": "ipython",
    "version": 3
   },
   "file_extension": ".py",
   "mimetype": "text/x-python",
   "name": "python",
   "nbconvert_exporter": "python",
   "pygments_lexer": "ipython3",
   "version": "3.5.2"
  },
  "nbpresent": {
   "slides": {
    "13f8e7ce-b76b-4538-94dd-1b942ef1002b": {
     "id": "13f8e7ce-b76b-4538-94dd-1b942ef1002b",
     "prev": "f31d457f-313d-4c9c-9c71-97f93dc5dfcf",
     "regions": {
      "b4983293-e551-4e25-b11e-0c90bf1dea9d": {
       "attrs": {
        "height": 0.8,
        "width": 0.8,
        "x": 0.1,
        "y": 0.1
       },
       "content": {
        "cell": "213fbfe1-e10e-4915-adae-03a8389d22dc",
        "part": "whole"
       },
       "id": "b4983293-e551-4e25-b11e-0c90bf1dea9d"
      }
     }
    },
    "36f6f631-02f3-44db-9928-a56665ca573f": {
     "id": "36f6f631-02f3-44db-9928-a56665ca573f",
     "prev": null,
     "regions": {
      "c03994de-9045-46b7-a462-53d7e34c9728": {
       "attrs": {
        "height": 0.8,
        "width": 0.8,
        "x": 0.1,
        "y": 0.1
       },
       "content": {
        "cell": "5f663423-d46c-40f9-9593-fa31ff1acf59",
        "part": "whole"
       },
       "id": "c03994de-9045-46b7-a462-53d7e34c9728"
      }
     }
    },
    "6be8e717-a273-48bb-98a7-366bd5865312": {
     "id": "6be8e717-a273-48bb-98a7-366bd5865312",
     "prev": "9e1d2bb3-b98b-4f67-ad2e-7bc5f0a26de4",
     "regions": {
      "2348659c-180f-4825-8139-1cd5fdf98edf": {
       "attrs": {
        "height": 0.8,
        "width": 0.8,
        "x": 0.1,
        "y": 0.1
       },
       "content": {
        "cell": "72d6661e-d607-483d-9912-edcdbfd73d2b",
        "part": "whole"
       },
       "id": "2348659c-180f-4825-8139-1cd5fdf98edf"
      }
     }
    },
    "8fd774cd-16c9-45fa-b951-014e8f194017": {
     "id": "8fd774cd-16c9-45fa-b951-014e8f194017",
     "prev": "6be8e717-a273-48bb-98a7-366bd5865312",
     "regions": {
      "c08fed02-5ff7-4c87-be37-49ca49c44eb1": {
       "attrs": {
        "height": 0.8,
        "width": 0.8,
        "x": 0.1,
        "y": 0.1
       },
       "content": {
        "cell": "4884c290-8b0e-4c45-a93d-609af89c8d46",
        "part": "whole"
       },
       "id": "c08fed02-5ff7-4c87-be37-49ca49c44eb1"
      }
     }
    },
    "90676bce-b590-404d-a549-97bd7c371b12": {
     "id": "90676bce-b590-404d-a549-97bd7c371b12",
     "prev": "d9378f1b-8ef4-496d-acab-52f578383ec3",
     "regions": {
      "9379ae06-e466-4c61-b5d2-06ca1d0f0148": {
       "attrs": {
        "height": 0.8,
        "width": 0.8,
        "x": 0.1,
        "y": 0.1
       },
       "content": {
        "cell": "5d56f479-95ef-45d7-81ee-da6f9ed8865d",
        "part": "whole"
       },
       "id": "9379ae06-e466-4c61-b5d2-06ca1d0f0148"
      }
     }
    },
    "9e1d2bb3-b98b-4f67-ad2e-7bc5f0a26de4": {
     "id": "9e1d2bb3-b98b-4f67-ad2e-7bc5f0a26de4",
     "prev": "b4b24cb6-51c8-4cdd-807b-fd69186b2752",
     "regions": {
      "8eebb2ae-3a0e-45c5-afda-3e9b866ca435": {
       "attrs": {
        "height": 0.8,
        "width": 0.8,
        "x": 0.1,
        "y": 0.1
       },
       "content": {
        "cell": "94c96a43-d0ec-4c0d-a76c-de68a9bbaac5",
        "part": "whole"
       },
       "id": "8eebb2ae-3a0e-45c5-afda-3e9b866ca435"
      }
     }
    },
    "b4b24cb6-51c8-4cdd-807b-fd69186b2752": {
     "id": "b4b24cb6-51c8-4cdd-807b-fd69186b2752",
     "prev": "13f8e7ce-b76b-4538-94dd-1b942ef1002b",
     "regions": {
      "3905b6ef-d138-4f36-9ffe-a3893f80a07c": {
       "attrs": {
        "height": 0.8,
        "width": 0.8,
        "x": 0.1,
        "y": 0.1
       },
       "content": {
        "cell": "5f484542-081a-4d29-8ff6-6be15456af7f",
        "part": "whole"
       },
       "id": "3905b6ef-d138-4f36-9ffe-a3893f80a07c"
      }
     }
    },
    "d9378f1b-8ef4-496d-acab-52f578383ec3": {
     "id": "d9378f1b-8ef4-496d-acab-52f578383ec3",
     "prev": "36f6f631-02f3-44db-9928-a56665ca573f",
     "regions": {
      "e912de9f-ad07-4d78-b0de-66134e7858eb": {
       "attrs": {
        "height": 0.8,
        "width": 0.8,
        "x": 0.1,
        "y": 0.1
       },
       "content": {
        "cell": "77100e02-842b-412c-ba30-323996fac651",
        "part": "whole"
       },
       "id": "e912de9f-ad07-4d78-b0de-66134e7858eb"
      }
     }
    },
    "f31d457f-313d-4c9c-9c71-97f93dc5dfcf": {
     "id": "f31d457f-313d-4c9c-9c71-97f93dc5dfcf",
     "prev": "90676bce-b590-404d-a549-97bd7c371b12",
     "regions": {
      "7103b1a7-0203-4e6f-b3e6-802ba5a4a391": {
       "attrs": {
        "height": 0.8,
        "width": 0.8,
        "x": 0.1,
        "y": 0.1
       },
       "content": {
        "cell": "7c53dbc5-ab60-4d85-9cef-14097bfe0aa1",
        "part": "whole"
       },
       "id": "7103b1a7-0203-4e6f-b3e6-802ba5a4a391"
      }
     }
    }
   },
   "themes": {
    "default": "eeaa64c2-9bd7-44e7-b7b2-d586eb10984f",
    "theme": {}
   }
  }
 },
 "nbformat": 4,
 "nbformat_minor": 0
}
